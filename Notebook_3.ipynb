{
 "cells": [
  {
   "cell_type": "code",
   "execution_count": 159,
   "id": "e7b6f514",
   "metadata": {},
   "outputs": [],
   "source": [
    "import numpy as np\n",
    "from matplotlib import pyplot as plt"
   ]
  },
  {
   "cell_type": "code",
   "execution_count": 160,
   "id": "279e4f11",
   "metadata": {},
   "outputs": [
    {
     "data": {
      "text/plain": [
       "<matplotlib.collections.PathCollection at 0x23818187eb0>"
      ]
     },
     "execution_count": 160,
     "metadata": {},
     "output_type": "execute_result"
    },
    {
     "data": {
      "image/png": "[encoded data removed]",
      "text/plain": [
       "<Figure size 432x288 with 1 Axes>"
      ]
     },
     "metadata": {
      "needs_background": "light"
     },
     "output_type": "display_data"
    }
   ],
   "source": [
    "def pr_dataset_generator(x_multiplier,std_dev):\n",
    "    np.random.seed(0)\n",
    "    x = np.random.rand(100,1)*x_multiplier\n",
    "    y = 3*(x**2)+np.random.randn(100,1)*std_dev\n",
    "    return x, y\n",
    "\n",
    "x,y=pr_dataset_generator(20,30)\n",
    "plt.scatter(x, y)"
   ]
  },
  {
   "cell_type": "code",
   "execution_count": 161,
   "id": "4cb0ece1",
   "metadata": {},
   "outputs": [],
   "source": [
    "def mse_loss(y_test, y_predicted):\n",
    "    loss = 0\n",
    "    for i in range(len(y_test)):\n",
    "        loss += ((y_predicted[i] - y_test[i])**2)/len(y_test)\n",
    "    return loss"
   ]
  },
  {
   "cell_type": "code",
   "execution_count": 162,
   "id": "85e7bbce",
   "metadata": {},
   "outputs": [],
   "source": [
    "def derivatives(x_train, y_train, y_predicted):\n",
    "    n = len(x_train)\n",
    "#     dw represents change in weights and db represents change in bias as per gradient descent algorithm\n",
    "    y_new = []\n",
    "    for i in range(n):\n",
    "        y_new.append((y_predicted[i] - y_train[i])**3)\n",
    "    np.array(y_new)\n",
    "    dw = -(1/n)*(np.dot(x_train.T, y_new))\n",
    "    db = -(1/n)*(np.sum(y_new))\n",
    "    return dw,db\n",
    "    "
   ]
  },
  {
   "cell_type": "code",
   "execution_count": 163,
   "id": "20422b50",
   "metadata": {},
   "outputs": [],
   "source": [
    "def x_transform(x, degrees):\n",
    "    t = x.copy()\n",
    "    \n",
    "    for i in degrees:\n",
    "        x = np.append(x, t**i, axis = 1)\n",
    "    return x"
   ]
  },
  {
   "cell_type": "code",
   "execution_count": 164,
   "id": "4d6fd6b5",
   "metadata": {},
   "outputs": [],
   "source": [
    "def train(x, y, bs, degrees, epochs, lr):\n",
    "    x = x_transform(x,degrees)\n",
    "    \n",
    "    m,n = x.shape\n",
    "    \n",
    "    w = np.zeros((n,1))\n",
    "    b = 0\n",
    "    \n",
    "    y = y.reshape(m, 1)\n",
    "    \n",
    "    losses = []\n",
    "    \n",
    "    for epoch in range(epochs):\n",
    "        for i in range((m-1)//bs + 1):\n",
    "            start_i = i*bs\n",
    "            end_i = start_i + bs\n",
    "            x_train = x[start_i:end_i]\n",
    "            y_train = y[start_i:end_i]\n",
    "            \n",
    "            y_predicted = np.dot(x_train, w)+b\n",
    "            \n",
    "            dw, db = derivatives(x_train, y_train, y_predicted)\n",
    "            \n",
    "            w-=dw*lr\n",
    "            b-=db*lr\n",
    "            \n",
    "#         l = loss(y, np.dot(x, w)+b)\n",
    "#         losses.append(l)\n",
    "#     return w, b, losses\n",
    "    return w, b"
   ]
  },
  {
   "cell_type": "code",
   "execution_count": 165,
   "id": "7970ae4b",
   "metadata": {},
   "outputs": [],
   "source": [
    "def predict(x, w, b, degrees):\n",
    "    x1 = x_transform(x,degrees)\n",
    "    return np.dot(x1, w)+b"
   ]
  },
  {
   "cell_type": "code",
   "execution_count": 166,
   "id": "fbaa5db5",
   "metadata": {},
   "outputs": [
    {
     "name": "stderr",
     "output_type": "stream",
     "text": [
      "C:\\Users\\Hp\\AppData\\Local\\Temp/ipykernel_30768/2539975400.py:6: RuntimeWarning: overflow encountered in power\n",
      "  y_new.append((y_predicted[i] - y_train[i])**3)\n"
     ]
    },
    {
     "data": {
      "image/png": "[encoded data removed]",
      "text/plain": [
       "<Figure size 576x432 with 1 Axes>"
      ]
     },
     "metadata": {
      "needs_background": "light"
     },
     "output_type": "display_data"
    }
   ],
   "source": [
    "# old_settings = np.seterr(all='print')\n",
    "# w, b, mse_loss = train(x, y, bs=100, degrees=[2], epochs=5,\n",
    "#                 lr=0.0001)\n",
    "w, b = train(x, y, bs=4, degrees=[2], epochs=10,\n",
    "                lr=0.001)\n",
    "# Plotting\n",
    "fig = plt.figure(figsize=(8,6))\n",
    "plt.plot(x, y, 'y.')\n",
    "plt.plot(x, predict(x, w, b, [2]), 'r.')\n",
    "plt.legend([\"Data\", \"Predicted Data Points\"])\n",
    "plt.show()"
   ]
  }
 ],
 "metadata": {
  "language_info": {
   "codemirror_mode": {
    "name": "ipython",
    "version": 3
   },
   "file_extension": ".py",
   "mimetype": "text/x-python",
   "name": "python",
   "nbconvert_exporter": "python",
   "pygments_lexer": "ipython3",
   "version": "3.9.2"
  }
 },
 "nbformat": 4,
 "nbformat_minor": 5
}
