{
 "cells": [
  {
   "cell_type": "code",
   "execution_count": 161,
   "id": "03c5da6a",
   "metadata": {},
   "outputs": [],
   "source": [
    "from dataset import lr_dataset\n",
    "from matplotlib import pyplot as plt\n",
    "from math import sqrt"
   ]
  },
  {
   "cell_type": "code",
   "execution_count": 162,
   "id": "41d1d1fb",
   "metadata": {},
   "outputs": [],
   "source": [
    "x_train, y_train, x_test, y_test = lr_dataset()"
   ]
  },
  {
   "cell_type": "code",
   "execution_count": 163,
   "id": "09c90e61",
   "metadata": {},
   "outputs": [],
   "source": [
    "def mean(x):\n",
    "    return float(sum(x)/len(x))"
   ]
  },
  {
   "cell_type": "code",
   "execution_count": 164,
   "id": "de891257",
   "metadata": {},
   "outputs": [],
   "source": [
    "def variance(x):\n",
    "    M = mean(x)\n",
    "    return sum((i-M)**2 for i in x)/len(x) "
   ]
  },
  {
   "cell_type": "code",
   "execution_count": 165,
   "id": "7d9a78d6",
   "metadata": {},
   "outputs": [],
   "source": [
    "def covariance(x, y):\n",
    "    cvr = 0\n",
    "    for i in range(len(x)):\n",
    "        cvr+=(x[i]-mean(x))*(y[i]-mean(y))\n",
    "    return cvr/(len(x)-1)"
   ]
  },
  {
   "cell_type": "code",
   "execution_count": 166,
   "id": "83d23d48",
   "metadata": {},
   "outputs": [],
   "source": [
    "def avg_loss(predicted, y_test):\n",
    "    loss = 0\n",
    "    for i in range(len(predicted)):\n",
    "        loss += abs((predicted[i]-y_test[i]))\n",
    "    return loss/len(y_test)"
   ]
  },
  {
   "cell_type": "code",
   "execution_count": 167,
   "id": "d593dbe3",
   "metadata": {},
   "outputs": [],
   "source": [
    "def avg_rms_loss(predicted, y_test):\n",
    "        loss = 0\n",
    "        for i in range(len(predicted)):\n",
    "            loss += (predicted[i]-y_test[i])**2\n",
    "        return sqrt(abs(loss)/len(y_test))"
   ]
  },
  {
   "cell_type": "code",
   "execution_count": 168,
   "id": "67681209",
   "metadata": {},
   "outputs": [],
   "source": [
    "def function_coeff(x, y):# y = slope*x+constant\n",
    "    slope = covariance(x,y)/variance(x)\n",
    "    constant = mean(y)-slope*mean(x)\n",
    "    return slope, constant"
   ]
  },
  {
   "cell_type": "code",
   "execution_count": 169,
   "id": "3badc05c",
   "metadata": {},
   "outputs": [],
   "source": [
    "#Here loss function is taken as |y-yi|^2\n",
    "#Used gradient descent approach for modifying slope and constant "
   ]
  },
  {
   "cell_type": "code",
   "execution_count": 170,
   "id": "b3d25759",
   "metadata": {},
   "outputs": [],
   "source": [
    "def modification_in_slope(x_test, y_test, predicted_val_y):\n",
    "    dslope = 0\n",
    "    for i in range(len(x_test)):\n",
    "        dslope+=(-3*x_test[i]*((predicted_val_y[i]-y_test[i])**2))/len(x_test)\n",
    "    return dslope\n",
    "    "
   ]
  },
  {
   "cell_type": "code",
   "execution_count": 171,
   "id": "a25ceebb",
   "metadata": {},
   "outputs": [],
   "source": [
    "def modification_in_constant(x_test, y_test, predicted_val_y):\n",
    "    dconstant=0\n",
    "    for i in range(len(x_test)):\n",
    "        dconstant+=((-3)*(predicted_val_y[i]-y_test[i])**2)/len(x_test)\n",
    "    return dconstant"
   ]
  },
  {
   "cell_type": "code",
   "execution_count": 172,
   "id": "a322e90b",
   "metadata": {},
   "outputs": [],
   "source": [
    "def linear_regression(x_train,y_train, x_test, y_test, Lr):\n",
    "    a,b = function_coeff(x_train, y_train)\n",
    "    \n",
    "    predicted_val = []\n",
    "    for i in x_test:\n",
    "        y_predicted = a*i+b\n",
    "        predicted_val.append(y_predicted)\n",
    "        \n",
    "    dslope = modification_in_slope(x_test,y_test,predicted_val)\n",
    "    dconstant = modification_in_constant(x_test, y_test, predicted_val)\n",
    "    a-=dslope*Lr\n",
    "    b-=dconstant*Lr\n",
    "    \n",
    "    new_predicted_val=[]\n",
    "    for i in x_test:\n",
    "        y_predicted = a*i+b\n",
    "        new_predicted_val.append(y_predicted)\n",
    "    return predicted_val,new_predicted_val"
   ]
  },
  {
   "cell_type": "code",
   "execution_count": 173,
   "id": "d70345bf",
   "metadata": {},
   "outputs": [],
   "source": [
    "import numpy as np\n",
    "predicted_val,new_predicted_val = np.array(linear_regression(x_train, y_train, x_test, y_test, 0.00001))"
   ]
  },
  {
   "cell_type": "code",
   "execution_count": 174,
   "id": "b78f5d79",
   "metadata": {},
   "outputs": [
    {
     "name": "stdout",
     "output_type": "stream",
     "text": [
      "avg loss: 66.07\n",
      "avg rms loss: 78.25\n"
     ]
    },
    {
     "data": {
      "image/png": "[encoded data removed]",
      "text/plain": [
       "<Figure size 432x288 with 1 Axes>"
      ]
     },
     "metadata": {
      "needs_background": "light"
     },
     "output_type": "display_data"
    }
   ],
   "source": [
    "# Scatter points represents predicted value according to y_predicted=slope*x_test+constant and accepted x_test and y_test values\n",
    "plt.scatter(x_test, predicted_val)\n",
    "plt.scatter(x_test, y_test)\n",
    "print(\"avg loss: %.2f\"%(avg_loss(predicted_val,y_test)))\n",
    "print(\"avg rms loss: %.2f\"%(avg_rms_loss(predicted_val,y_test)))"
   ]
  },
  {
   "cell_type": "code",
   "execution_count": 175,
   "id": "edaab5ed",
   "metadata": {},
   "outputs": [
    {
     "name": "stdout",
     "output_type": "stream",
     "text": [
      "avg loss: 1447.97\n",
      "avg rms loss: 1746.57\n"
     ]
    },
    {
     "data": {
      "image/png": "[encoded data removed]",
      "text/plain": [
       "<Figure size 432x288 with 1 Axes>"
      ]
     },
     "metadata": {
      "needs_background": "light"
     },
     "output_type": "display_data"
    }
   ],
   "source": [
    "# Scatter points represents new predicted value according to \n",
    "# y_predicted=slope_modified*x_test+constant_modified and accepted x_test and y_test values\n",
    "plt.scatter(x_test, new_predicted_val)\n",
    "plt.scatter(x_test, y_test)\n",
    "print(\"avg loss: %.2f\"%(avg_loss(new_predicted_val,y_test)))\n",
    "print(\"avg rms loss: %.2f\"%(avg_rms_loss(new_predicted_val,y_test)))"
   ]
  }
 ],
 "metadata": {
  "kernelspec": {
   "display_name": "Python 3 (ipykernel)",
   "language": "python",
   "name": "python3"
  },
  "language_info": {
   "codemirror_mode": {
    "name": "ipython",
    "version": 3
   },
   "file_extension": ".py",
   "mimetype": "text/x-python",
   "name": "python",
   "nbconvert_exporter": "python",
   "pygments_lexer": "ipython3",
   "version": "3.9.2"
  }
 },
 "nbformat": 4,
 "nbformat_minor": 5
}
